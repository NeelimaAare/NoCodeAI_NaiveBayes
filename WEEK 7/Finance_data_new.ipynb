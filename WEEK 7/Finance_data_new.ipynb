{
 "cells": [
  {
   "cell_type": "markdown",
   "id": "4fcfdd93",
   "metadata": {},
   "source": [
    "# **Importing necessary libraries"
   ]
  },
  {
   "cell_type": "code",
   "execution_count": 59,
   "id": "4f325dd9",
   "metadata": {
    "scrolled": true
   },
   "outputs": [],
   "source": [
    "#importing required and necessary libraries\n",
    "import numpy as np # used to perform mathematical operation on array\n",
    "import pandas as pd # used for data manipulation\n",
    "import matplotlib.pyplot as plt;\n",
    "import seaborn as sns\n",
    "%matplotlib inline\n",
    "import warnings\n",
    "warnings.filterwarnings(\"ignore\")"
   ]
  },
  {
   "cell_type": "markdown",
   "id": "79ec15b3",
   "metadata": {},
   "source": [
    "# **Reading the dataset"
   ]
  },
  {
   "cell_type": "code",
   "execution_count": 70,
   "id": "794a156b",
   "metadata": {},
   "outputs": [],
   "source": [
    "data_2014 = pd.read_csv('2014_Financial_Data.csv')\n",
    "data_2015 = pd.read_csv('2015_Financial_Data.csv')\n",
    "data_2016 = pd.read_csv('2016_Financial_Data.csv')\n",
    "data_2017 = pd.read_csv('2017_Financial_Data.csv')\n",
    "data_2018 = pd.read_csv('2018_Financial_Data.csv')"
   ]
  },
  {
   "cell_type": "code",
   "execution_count": 71,
   "id": "ddd8b824",
   "metadata": {},
   "outputs": [],
   "source": [
    "data_2014 = data_2014.rename(columns={\"2015 PRICE VAR [%]\": \"PRICE VAR [%]\"})\n",
    "data_2015 = data_2015.rename(columns={\"2016 PRICE VAR [%]\": \"PRICE VAR [%]\"})\n",
    "data_2016 = data_2016.rename(columns={\"2017 PRICE VAR [%]\": \"PRICE VAR [%]\"})\n",
    "data_2017 = data_2017.rename(columns={\"2018 PRICE VAR [%]\": \"PRICE VAR [%]\"})\n",
    "data_2018 = data_2018.rename(columns={\"2019 PRICE VAR [%]\": \"PRICE VAR [%]\"})"
   ]
  },
  {
   "cell_type": "code",
   "execution_count": 72,
   "id": "e6373bfb",
   "metadata": {},
   "outputs": [],
   "source": [
    "data = pd.concat([data_2014, data_2015, data_2016, data_2017, data_2018],axis=0)"
   ]
  },
  {
   "cell_type": "code",
   "execution_count": 73,
   "id": "1301e93d",
   "metadata": {},
   "outputs": [],
   "source": [
    "data.to_csv('data.csv')"
   ]
  },
  {
   "cell_type": "markdown",
   "id": "4485b33b",
   "metadata": {},
   "source": [
    "# **Exploratory Data Analysis"
   ]
  },
  {
   "cell_type": "code",
   "execution_count": 74,
   "id": "1e5b71a2",
   "metadata": {},
   "outputs": [
    {
     "data": {
      "text/html": [
       "<div>\n",
       "<style scoped>\n",
       "    .dataframe tbody tr th:only-of-type {\n",
       "        vertical-align: middle;\n",
       "    }\n",
       "\n",
       "    .dataframe tbody tr th {\n",
       "        vertical-align: top;\n",
       "    }\n",
       "\n",
       "    .dataframe thead th {\n",
       "        text-align: right;\n",
       "    }\n",
       "</style>\n",
       "<table border=\"1\" class=\"dataframe\">\n",
       "  <thead>\n",
       "    <tr style=\"text-align: right;\">\n",
       "      <th></th>\n",
       "      <th>Unnamed: 0</th>\n",
       "      <th>Revenue</th>\n",
       "      <th>Revenue Growth</th>\n",
       "      <th>Cost of Revenue</th>\n",
       "      <th>Gross Profit</th>\n",
       "      <th>R&amp;D Expenses</th>\n",
       "      <th>SG&amp;A Expense</th>\n",
       "      <th>Operating Expenses</th>\n",
       "      <th>Operating Income</th>\n",
       "      <th>Interest Expense</th>\n",
       "      <th>...</th>\n",
       "      <th>Receivables growth</th>\n",
       "      <th>Inventory Growth</th>\n",
       "      <th>Asset Growth</th>\n",
       "      <th>Book Value per Share Growth</th>\n",
       "      <th>Debt Growth</th>\n",
       "      <th>R&amp;D Expense Growth</th>\n",
       "      <th>SG&amp;A Expenses Growth</th>\n",
       "      <th>Sector</th>\n",
       "      <th>PRICE VAR [%]</th>\n",
       "      <th>Class</th>\n",
       "    </tr>\n",
       "  </thead>\n",
       "  <tbody>\n",
       "    <tr>\n",
       "      <th>0</th>\n",
       "      <td>PG</td>\n",
       "      <td>7.440100e+10</td>\n",
       "      <td>-0.0713</td>\n",
       "      <td>3.903000e+10</td>\n",
       "      <td>3.537100e+10</td>\n",
       "      <td>0.000000e+00</td>\n",
       "      <td>2.146100e+10</td>\n",
       "      <td>2.146100e+10</td>\n",
       "      <td>1.391000e+10</td>\n",
       "      <td>7.090000e+08</td>\n",
       "      <td>...</td>\n",
       "      <td>-0.0187</td>\n",
       "      <td>-0.0217</td>\n",
       "      <td>0.0359</td>\n",
       "      <td>0.0316</td>\n",
       "      <td>0.1228</td>\n",
       "      <td>0.0000</td>\n",
       "      <td>-0.1746</td>\n",
       "      <td>Consumer Defensive</td>\n",
       "      <td>-9.323276</td>\n",
       "      <td>0</td>\n",
       "    </tr>\n",
       "    <tr>\n",
       "      <th>1</th>\n",
       "      <td>VIPS</td>\n",
       "      <td>3.734148e+09</td>\n",
       "      <td>1.1737</td>\n",
       "      <td>2.805625e+09</td>\n",
       "      <td>9.285226e+08</td>\n",
       "      <td>1.083303e+08</td>\n",
       "      <td>3.441414e+08</td>\n",
       "      <td>7.939267e+08</td>\n",
       "      <td>1.345959e+08</td>\n",
       "      <td>1.214869e+07</td>\n",
       "      <td>...</td>\n",
       "      <td>NaN</td>\n",
       "      <td>NaN</td>\n",
       "      <td>NaN</td>\n",
       "      <td>NaN</td>\n",
       "      <td>NaN</td>\n",
       "      <td>1.6484</td>\n",
       "      <td>1.7313</td>\n",
       "      <td>Consumer Defensive</td>\n",
       "      <td>-25.512193</td>\n",
       "      <td>0</td>\n",
       "    </tr>\n",
       "    <tr>\n",
       "      <th>2</th>\n",
       "      <td>KR</td>\n",
       "      <td>9.837500e+10</td>\n",
       "      <td>0.0182</td>\n",
       "      <td>7.813800e+10</td>\n",
       "      <td>2.023700e+10</td>\n",
       "      <td>0.000000e+00</td>\n",
       "      <td>1.519600e+10</td>\n",
       "      <td>1.751200e+10</td>\n",
       "      <td>2.725000e+09</td>\n",
       "      <td>4.430000e+08</td>\n",
       "      <td>...</td>\n",
       "      <td>0.0618</td>\n",
       "      <td>0.0981</td>\n",
       "      <td>0.1886</td>\n",
       "      <td>0.3268</td>\n",
       "      <td>0.2738</td>\n",
       "      <td>0.0000</td>\n",
       "      <td>0.0234</td>\n",
       "      <td>Consumer Defensive</td>\n",
       "      <td>33.118297</td>\n",
       "      <td>1</td>\n",
       "    </tr>\n",
       "    <tr>\n",
       "      <th>3</th>\n",
       "      <td>RAD</td>\n",
       "      <td>2.552641e+10</td>\n",
       "      <td>0.0053</td>\n",
       "      <td>1.820268e+10</td>\n",
       "      <td>7.323734e+09</td>\n",
       "      <td>0.000000e+00</td>\n",
       "      <td>6.561162e+09</td>\n",
       "      <td>6.586482e+09</td>\n",
       "      <td>7.372520e+08</td>\n",
       "      <td>4.245910e+08</td>\n",
       "      <td>...</td>\n",
       "      <td>0.0211</td>\n",
       "      <td>-0.0510</td>\n",
       "      <td>-0.0189</td>\n",
       "      <td>0.1963</td>\n",
       "      <td>-0.0458</td>\n",
       "      <td>0.0000</td>\n",
       "      <td>-0.0060</td>\n",
       "      <td>Consumer Defensive</td>\n",
       "      <td>2.752291</td>\n",
       "      <td>1</td>\n",
       "    </tr>\n",
       "    <tr>\n",
       "      <th>4</th>\n",
       "      <td>GIS</td>\n",
       "      <td>1.790960e+10</td>\n",
       "      <td>0.0076</td>\n",
       "      <td>1.153980e+10</td>\n",
       "      <td>6.369800e+09</td>\n",
       "      <td>0.000000e+00</td>\n",
       "      <td>3.474300e+09</td>\n",
       "      <td>3.412400e+09</td>\n",
       "      <td>2.957400e+09</td>\n",
       "      <td>3.024000e+08</td>\n",
       "      <td>...</td>\n",
       "      <td>0.0257</td>\n",
       "      <td>0.0090</td>\n",
       "      <td>0.0215</td>\n",
       "      <td>0.0274</td>\n",
       "      <td>0.1025</td>\n",
       "      <td>0.0000</td>\n",
       "      <td>-0.0220</td>\n",
       "      <td>Consumer Defensive</td>\n",
       "      <td>12.897715</td>\n",
       "      <td>1</td>\n",
       "    </tr>\n",
       "  </tbody>\n",
       "</table>\n",
       "<p>5 rows × 225 columns</p>\n",
       "</div>"
      ],
      "text/plain": [
       "  Unnamed: 0       Revenue  Revenue Growth  Cost of Revenue  Gross Profit  \\\n",
       "0         PG  7.440100e+10         -0.0713     3.903000e+10  3.537100e+10   \n",
       "1       VIPS  3.734148e+09          1.1737     2.805625e+09  9.285226e+08   \n",
       "2         KR  9.837500e+10          0.0182     7.813800e+10  2.023700e+10   \n",
       "3        RAD  2.552641e+10          0.0053     1.820268e+10  7.323734e+09   \n",
       "4        GIS  1.790960e+10          0.0076     1.153980e+10  6.369800e+09   \n",
       "\n",
       "   R&D Expenses  SG&A Expense  Operating Expenses  Operating Income  \\\n",
       "0  0.000000e+00  2.146100e+10        2.146100e+10      1.391000e+10   \n",
       "1  1.083303e+08  3.441414e+08        7.939267e+08      1.345959e+08   \n",
       "2  0.000000e+00  1.519600e+10        1.751200e+10      2.725000e+09   \n",
       "3  0.000000e+00  6.561162e+09        6.586482e+09      7.372520e+08   \n",
       "4  0.000000e+00  3.474300e+09        3.412400e+09      2.957400e+09   \n",
       "\n",
       "   Interest Expense  ...  Receivables growth  Inventory Growth  Asset Growth  \\\n",
       "0      7.090000e+08  ...             -0.0187           -0.0217        0.0359   \n",
       "1      1.214869e+07  ...                 NaN               NaN           NaN   \n",
       "2      4.430000e+08  ...              0.0618            0.0981        0.1886   \n",
       "3      4.245910e+08  ...              0.0211           -0.0510       -0.0189   \n",
       "4      3.024000e+08  ...              0.0257            0.0090        0.0215   \n",
       "\n",
       "   Book Value per Share Growth  Debt Growth  R&D Expense Growth  \\\n",
       "0                       0.0316       0.1228              0.0000   \n",
       "1                          NaN          NaN              1.6484   \n",
       "2                       0.3268       0.2738              0.0000   \n",
       "3                       0.1963      -0.0458              0.0000   \n",
       "4                       0.0274       0.1025              0.0000   \n",
       "\n",
       "   SG&A Expenses Growth              Sector  PRICE VAR [%]  Class  \n",
       "0               -0.1746  Consumer Defensive      -9.323276      0  \n",
       "1                1.7313  Consumer Defensive     -25.512193      0  \n",
       "2                0.0234  Consumer Defensive      33.118297      1  \n",
       "3               -0.0060  Consumer Defensive       2.752291      1  \n",
       "4               -0.0220  Consumer Defensive      12.897715      1  \n",
       "\n",
       "[5 rows x 225 columns]"
      ]
     },
     "execution_count": 74,
     "metadata": {},
     "output_type": "execute_result"
    }
   ],
   "source": [
    "#Checking the first 5 rows of the train data\n",
    "data.head()"
   ]
  },
  {
   "cell_type": "code",
   "execution_count": 75,
   "id": "c2e020b7",
   "metadata": {},
   "outputs": [
    {
     "data": {
      "text/html": [
       "<div>\n",
       "<style scoped>\n",
       "    .dataframe tbody tr th:only-of-type {\n",
       "        vertical-align: middle;\n",
       "    }\n",
       "\n",
       "    .dataframe tbody tr th {\n",
       "        vertical-align: top;\n",
       "    }\n",
       "\n",
       "    .dataframe thead th {\n",
       "        text-align: right;\n",
       "    }\n",
       "</style>\n",
       "<table border=\"1\" class=\"dataframe\">\n",
       "  <thead>\n",
       "    <tr style=\"text-align: right;\">\n",
       "      <th></th>\n",
       "      <th>Unnamed: 0</th>\n",
       "      <th>Revenue</th>\n",
       "      <th>Revenue Growth</th>\n",
       "      <th>Cost of Revenue</th>\n",
       "      <th>Gross Profit</th>\n",
       "      <th>R&amp;D Expenses</th>\n",
       "      <th>SG&amp;A Expense</th>\n",
       "      <th>Operating Expenses</th>\n",
       "      <th>Operating Income</th>\n",
       "      <th>Interest Expense</th>\n",
       "      <th>...</th>\n",
       "      <th>Receivables growth</th>\n",
       "      <th>Inventory Growth</th>\n",
       "      <th>Asset Growth</th>\n",
       "      <th>Book Value per Share Growth</th>\n",
       "      <th>Debt Growth</th>\n",
       "      <th>R&amp;D Expense Growth</th>\n",
       "      <th>SG&amp;A Expenses Growth</th>\n",
       "      <th>Sector</th>\n",
       "      <th>PRICE VAR [%]</th>\n",
       "      <th>Class</th>\n",
       "    </tr>\n",
       "  </thead>\n",
       "  <tbody>\n",
       "    <tr>\n",
       "      <th>4387</th>\n",
       "      <td>YRIV</td>\n",
       "      <td>0.0</td>\n",
       "      <td>0.0000</td>\n",
       "      <td>0.0</td>\n",
       "      <td>0.0</td>\n",
       "      <td>0.0</td>\n",
       "      <td>3755251.0</td>\n",
       "      <td>3755251.0</td>\n",
       "      <td>-3755251.0</td>\n",
       "      <td>11058486.0</td>\n",
       "      <td>...</td>\n",
       "      <td>0.0000</td>\n",
       "      <td>0.0000</td>\n",
       "      <td>-0.0508</td>\n",
       "      <td>-0.1409</td>\n",
       "      <td>-0.0152</td>\n",
       "      <td>0.0000</td>\n",
       "      <td>-0.2602</td>\n",
       "      <td>Real Estate</td>\n",
       "      <td>-90.962099</td>\n",
       "      <td>0</td>\n",
       "    </tr>\n",
       "    <tr>\n",
       "      <th>4388</th>\n",
       "      <td>YTEN</td>\n",
       "      <td>556000.0</td>\n",
       "      <td>-0.4110</td>\n",
       "      <td>0.0</td>\n",
       "      <td>556000.0</td>\n",
       "      <td>4759000.0</td>\n",
       "      <td>5071000.0</td>\n",
       "      <td>9830000.0</td>\n",
       "      <td>-9274000.0</td>\n",
       "      <td>0.0</td>\n",
       "      <td>...</td>\n",
       "      <td>0.3445</td>\n",
       "      <td>0.0000</td>\n",
       "      <td>-0.2323</td>\n",
       "      <td>-0.8602</td>\n",
       "      <td>0.0000</td>\n",
       "      <td>0.0352</td>\n",
       "      <td>-0.0993</td>\n",
       "      <td>Basic Materials</td>\n",
       "      <td>-77.922077</td>\n",
       "      <td>0</td>\n",
       "    </tr>\n",
       "    <tr>\n",
       "      <th>4389</th>\n",
       "      <td>ZKIN</td>\n",
       "      <td>54884381.0</td>\n",
       "      <td>0.2210</td>\n",
       "      <td>36593792.0</td>\n",
       "      <td>18290589.0</td>\n",
       "      <td>1652633.0</td>\n",
       "      <td>7020320.0</td>\n",
       "      <td>8672953.0</td>\n",
       "      <td>9617636.0</td>\n",
       "      <td>1239170.0</td>\n",
       "      <td>...</td>\n",
       "      <td>0.1605</td>\n",
       "      <td>0.7706</td>\n",
       "      <td>0.2489</td>\n",
       "      <td>0.4074</td>\n",
       "      <td>-0.0968</td>\n",
       "      <td>0.2415</td>\n",
       "      <td>0.8987</td>\n",
       "      <td>Basic Materials</td>\n",
       "      <td>-17.834400</td>\n",
       "      <td>0</td>\n",
       "    </tr>\n",
       "    <tr>\n",
       "      <th>4390</th>\n",
       "      <td>ZOM</td>\n",
       "      <td>0.0</td>\n",
       "      <td>0.0000</td>\n",
       "      <td>0.0</td>\n",
       "      <td>0.0</td>\n",
       "      <td>10317153.0</td>\n",
       "      <td>4521349.0</td>\n",
       "      <td>16648628.0</td>\n",
       "      <td>-16648628.0</td>\n",
       "      <td>0.0</td>\n",
       "      <td>...</td>\n",
       "      <td>0.8980</td>\n",
       "      <td>0.0000</td>\n",
       "      <td>0.1568</td>\n",
       "      <td>-0.2200</td>\n",
       "      <td>0.0000</td>\n",
       "      <td>2.7499</td>\n",
       "      <td>0.1457</td>\n",
       "      <td>Industrials</td>\n",
       "      <td>-73.520000</td>\n",
       "      <td>0</td>\n",
       "    </tr>\n",
       "    <tr>\n",
       "      <th>4391</th>\n",
       "      <td>ZYME</td>\n",
       "      <td>53019000.0</td>\n",
       "      <td>0.0243</td>\n",
       "      <td>0.0</td>\n",
       "      <td>53019000.0</td>\n",
       "      <td>56684000.0</td>\n",
       "      <td>29457000.0</td>\n",
       "      <td>86146000.0</td>\n",
       "      <td>-33127000.0</td>\n",
       "      <td>166000.0</td>\n",
       "      <td>...</td>\n",
       "      <td>-0.4185</td>\n",
       "      <td>0.0000</td>\n",
       "      <td>0.8519</td>\n",
       "      <td>0.1325</td>\n",
       "      <td>0.0000</td>\n",
       "      <td>0.3577</td>\n",
       "      <td>0.5880</td>\n",
       "      <td>Healthcare</td>\n",
       "      <td>209.462222</td>\n",
       "      <td>1</td>\n",
       "    </tr>\n",
       "  </tbody>\n",
       "</table>\n",
       "<p>5 rows × 225 columns</p>\n",
       "</div>"
      ],
      "text/plain": [
       "     Unnamed: 0     Revenue  Revenue Growth  Cost of Revenue  Gross Profit  \\\n",
       "4387       YRIV         0.0          0.0000              0.0           0.0   \n",
       "4388       YTEN    556000.0         -0.4110              0.0      556000.0   \n",
       "4389       ZKIN  54884381.0          0.2210       36593792.0    18290589.0   \n",
       "4390        ZOM         0.0          0.0000              0.0           0.0   \n",
       "4391       ZYME  53019000.0          0.0243              0.0    53019000.0   \n",
       "\n",
       "      R&D Expenses  SG&A Expense  Operating Expenses  Operating Income  \\\n",
       "4387           0.0     3755251.0           3755251.0        -3755251.0   \n",
       "4388     4759000.0     5071000.0           9830000.0        -9274000.0   \n",
       "4389     1652633.0     7020320.0           8672953.0         9617636.0   \n",
       "4390    10317153.0     4521349.0          16648628.0       -16648628.0   \n",
       "4391    56684000.0    29457000.0          86146000.0       -33127000.0   \n",
       "\n",
       "      Interest Expense  ...  Receivables growth  Inventory Growth  \\\n",
       "4387        11058486.0  ...              0.0000            0.0000   \n",
       "4388               0.0  ...              0.3445            0.0000   \n",
       "4389         1239170.0  ...              0.1605            0.7706   \n",
       "4390               0.0  ...              0.8980            0.0000   \n",
       "4391          166000.0  ...             -0.4185            0.0000   \n",
       "\n",
       "      Asset Growth  Book Value per Share Growth  Debt Growth  \\\n",
       "4387       -0.0508                      -0.1409      -0.0152   \n",
       "4388       -0.2323                      -0.8602       0.0000   \n",
       "4389        0.2489                       0.4074      -0.0968   \n",
       "4390        0.1568                      -0.2200       0.0000   \n",
       "4391        0.8519                       0.1325       0.0000   \n",
       "\n",
       "      R&D Expense Growth  SG&A Expenses Growth           Sector  \\\n",
       "4387              0.0000               -0.2602      Real Estate   \n",
       "4388              0.0352               -0.0993  Basic Materials   \n",
       "4389              0.2415                0.8987  Basic Materials   \n",
       "4390              2.7499                0.1457      Industrials   \n",
       "4391              0.3577                0.5880       Healthcare   \n",
       "\n",
       "      PRICE VAR [%]  Class  \n",
       "4387     -90.962099      0  \n",
       "4388     -77.922077      0  \n",
       "4389     -17.834400      0  \n",
       "4390     -73.520000      0  \n",
       "4391     209.462222      1  \n",
       "\n",
       "[5 rows x 225 columns]"
      ]
     },
     "execution_count": 75,
     "metadata": {},
     "output_type": "execute_result"
    }
   ],
   "source": [
    "#Checking the last 5 rows of the train data\n",
    "data.tail()"
   ]
  },
  {
   "cell_type": "code",
   "execution_count": 76,
   "id": "7f5ccc47",
   "metadata": {},
   "outputs": [
    {
     "name": "stdout",
     "output_type": "stream",
     "text": [
      "<class 'pandas.core.frame.DataFrame'>\n",
      "Int64Index: 22077 entries, 0 to 4391\n",
      "Columns: 225 entries, Unnamed: 0 to Class\n",
      "dtypes: float64(222), int64(1), object(2)\n",
      "memory usage: 38.1+ MB\n"
     ]
    }
   ],
   "source": [
    "#checking the information about the dataframe\n",
    "data.info()"
   ]
  },
  {
   "cell_type": "code",
   "execution_count": 77,
   "id": "f145856e",
   "metadata": {},
   "outputs": [
    {
     "data": {
      "text/html": [
       "<div>\n",
       "<style scoped>\n",
       "    .dataframe tbody tr th:only-of-type {\n",
       "        vertical-align: middle;\n",
       "    }\n",
       "\n",
       "    .dataframe tbody tr th {\n",
       "        vertical-align: top;\n",
       "    }\n",
       "\n",
       "    .dataframe thead th {\n",
       "        text-align: right;\n",
       "    }\n",
       "</style>\n",
       "<table border=\"1\" class=\"dataframe\">\n",
       "  <thead>\n",
       "    <tr style=\"text-align: right;\">\n",
       "      <th></th>\n",
       "      <th>Revenue</th>\n",
       "      <th>Revenue Growth</th>\n",
       "      <th>Cost of Revenue</th>\n",
       "      <th>Gross Profit</th>\n",
       "      <th>R&amp;D Expenses</th>\n",
       "      <th>SG&amp;A Expense</th>\n",
       "      <th>Operating Expenses</th>\n",
       "      <th>Operating Income</th>\n",
       "      <th>Interest Expense</th>\n",
       "      <th>Earnings before Tax</th>\n",
       "      <th>...</th>\n",
       "      <th>3Y Dividend per Share Growth (per Share)</th>\n",
       "      <th>Receivables growth</th>\n",
       "      <th>Inventory Growth</th>\n",
       "      <th>Asset Growth</th>\n",
       "      <th>Book Value per Share Growth</th>\n",
       "      <th>Debt Growth</th>\n",
       "      <th>R&amp;D Expense Growth</th>\n",
       "      <th>SG&amp;A Expenses Growth</th>\n",
       "      <th>PRICE VAR [%]</th>\n",
       "      <th>Class</th>\n",
       "    </tr>\n",
       "  </thead>\n",
       "  <tbody>\n",
       "    <tr>\n",
       "      <th>count</th>\n",
       "      <td>2.090600e+04</td>\n",
       "      <td>19989.000000</td>\n",
       "      <td>2.030600e+04</td>\n",
       "      <td>2.087000e+04</td>\n",
       "      <td>1.993900e+04</td>\n",
       "      <td>2.040800e+04</td>\n",
       "      <td>2.037500e+04</td>\n",
       "      <td>2.097600e+04</td>\n",
       "      <td>2.035800e+04</td>\n",
       "      <td>2.071300e+04</td>\n",
       "      <td>...</td>\n",
       "      <td>18264.000000</td>\n",
       "      <td>19952.000000</td>\n",
       "      <td>19650.000000</td>\n",
       "      <td>19690.000000</td>\n",
       "      <td>19213.000000</td>\n",
       "      <td>19462.000000</td>\n",
       "      <td>19598.000000</td>\n",
       "      <td>19655.000000</td>\n",
       "      <td>2.207700e+04</td>\n",
       "      <td>22077.000000</td>\n",
       "    </tr>\n",
       "    <tr>\n",
       "      <th>mean</th>\n",
       "      <td>5.161619e+09</td>\n",
       "      <td>3.622214</td>\n",
       "      <td>3.258565e+09</td>\n",
       "      <td>1.970452e+09</td>\n",
       "      <td>1.033333e+08</td>\n",
       "      <td>8.699279e+08</td>\n",
       "      <td>1.368670e+09</td>\n",
       "      <td>5.896979e+08</td>\n",
       "      <td>9.778939e+07</td>\n",
       "      <td>4.925003e+08</td>\n",
       "      <td>...</td>\n",
       "      <td>0.012298</td>\n",
       "      <td>10.978239</td>\n",
       "      <td>0.158858</td>\n",
       "      <td>1.134221</td>\n",
       "      <td>0.783208</td>\n",
       "      <td>3.733922</td>\n",
       "      <td>0.295610</td>\n",
       "      <td>0.365149</td>\n",
       "      <td>2.698893e+02</td>\n",
       "      <td>0.550754</td>\n",
       "    </tr>\n",
       "    <tr>\n",
       "      <th>std</th>\n",
       "      <td>3.197314e+10</td>\n",
       "      <td>312.648170</td>\n",
       "      <td>2.583092e+10</td>\n",
       "      <td>8.735750e+09</td>\n",
       "      <td>7.676062e+08</td>\n",
       "      <td>3.804283e+09</td>\n",
       "      <td>5.662984e+09</td>\n",
       "      <td>2.976454e+09</td>\n",
       "      <td>4.996543e+08</td>\n",
       "      <td>2.484345e+09</td>\n",
       "      <td>...</td>\n",
       "      <td>0.263079</td>\n",
       "      <td>1101.098165</td>\n",
       "      <td>3.268154</td>\n",
       "      <td>45.381079</td>\n",
       "      <td>66.524006</td>\n",
       "      <td>174.864701</td>\n",
       "      <td>12.974127</td>\n",
       "      <td>15.030054</td>\n",
       "      <td>1.934617e+04</td>\n",
       "      <td>0.497429</td>\n",
       "    </tr>\n",
       "    <tr>\n",
       "      <th>min</th>\n",
       "      <td>-6.276160e+08</td>\n",
       "      <td>-12.769300</td>\n",
       "      <td>-2.986888e+09</td>\n",
       "      <td>-1.280800e+10</td>\n",
       "      <td>-1.098000e+08</td>\n",
       "      <td>-1.401594e+08</td>\n",
       "      <td>-5.495512e+09</td>\n",
       "      <td>-1.933900e+10</td>\n",
       "      <td>-1.710954e+09</td>\n",
       "      <td>-2.177200e+10</td>\n",
       "      <td>...</td>\n",
       "      <td>-1.000000</td>\n",
       "      <td>-1.000000</td>\n",
       "      <td>-1.000000</td>\n",
       "      <td>-1.000000</td>\n",
       "      <td>-3963.131200</td>\n",
       "      <td>-1.051000</td>\n",
       "      <td>-2.662200</td>\n",
       "      <td>-2.369900</td>\n",
       "      <td>-1.003972e+02</td>\n",
       "      <td>0.000000</td>\n",
       "    </tr>\n",
       "    <tr>\n",
       "      <th>25%</th>\n",
       "      <td>5.880737e+07</td>\n",
       "      <td>-0.014700</td>\n",
       "      <td>3.211750e+06</td>\n",
       "      <td>3.035575e+07</td>\n",
       "      <td>0.000000e+00</td>\n",
       "      <td>1.768550e+07</td>\n",
       "      <td>3.564150e+07</td>\n",
       "      <td>-4.433750e+06</td>\n",
       "      <td>0.000000e+00</td>\n",
       "      <td>-8.745000e+06</td>\n",
       "      <td>...</td>\n",
       "      <td>0.000000</td>\n",
       "      <td>-0.051125</td>\n",
       "      <td>0.000000</td>\n",
       "      <td>-0.031075</td>\n",
       "      <td>-0.103800</td>\n",
       "      <td>-0.067475</td>\n",
       "      <td>0.000000</td>\n",
       "      <td>-0.013700</td>\n",
       "      <td>-1.947409e+01</td>\n",
       "      <td>0.000000</td>\n",
       "    </tr>\n",
       "    <tr>\n",
       "      <th>50%</th>\n",
       "      <td>4.352510e+08</td>\n",
       "      <td>0.057600</td>\n",
       "      <td>1.530115e+08</td>\n",
       "      <td>1.943525e+08</td>\n",
       "      <td>0.000000e+00</td>\n",
       "      <td>8.062450e+07</td>\n",
       "      <td>1.564000e+08</td>\n",
       "      <td>3.585350e+07</td>\n",
       "      <td>3.697000e+06</td>\n",
       "      <td>2.380000e+07</td>\n",
       "      <td>...</td>\n",
       "      <td>0.000000</td>\n",
       "      <td>0.009500</td>\n",
       "      <td>0.000000</td>\n",
       "      <td>0.048000</td>\n",
       "      <td>0.032400</td>\n",
       "      <td>0.000000</td>\n",
       "      <td>0.000000</td>\n",
       "      <td>0.061000</td>\n",
       "      <td>3.909087e+00</td>\n",
       "      <td>1.000000</td>\n",
       "    </tr>\n",
       "    <tr>\n",
       "      <th>75%</th>\n",
       "      <td>2.287259e+09</td>\n",
       "      <td>0.182400</td>\n",
       "      <td>1.180224e+09</td>\n",
       "      <td>8.806035e+08</td>\n",
       "      <td>1.220150e+07</td>\n",
       "      <td>3.699722e+08</td>\n",
       "      <td>6.210870e+08</td>\n",
       "      <td>2.554363e+08</td>\n",
       "      <td>4.969325e+07</td>\n",
       "      <td>1.964680e+08</td>\n",
       "      <td>...</td>\n",
       "      <td>0.040000</td>\n",
       "      <td>0.200550</td>\n",
       "      <td>0.058400</td>\n",
       "      <td>0.176800</td>\n",
       "      <td>0.142100</td>\n",
       "      <td>0.150075</td>\n",
       "      <td>0.000000</td>\n",
       "      <td>0.185350</td>\n",
       "      <td>2.750567e+01</td>\n",
       "      <td>1.000000</td>\n",
       "    </tr>\n",
       "    <tr>\n",
       "      <th>max</th>\n",
       "      <td>1.886894e+12</td>\n",
       "      <td>42138.663900</td>\n",
       "      <td>1.581527e+12</td>\n",
       "      <td>4.621600e+11</td>\n",
       "      <td>2.883700e+10</td>\n",
       "      <td>1.856830e+11</td>\n",
       "      <td>3.056050e+11</td>\n",
       "      <td>1.565540e+11</td>\n",
       "      <td>3.152300e+10</td>\n",
       "      <td>8.720500e+10</td>\n",
       "      <td>...</td>\n",
       "      <td>5.400500</td>\n",
       "      <td>153332.333300</td>\n",
       "      <td>293.473000</td>\n",
       "      <td>5468.426400</td>\n",
       "      <td>7039.325900</td>\n",
       "      <td>17646.823500</td>\n",
       "      <td>1542.611000</td>\n",
       "      <td>2042.000000</td>\n",
       "      <td>2.418601e+06</td>\n",
       "      <td>1.000000</td>\n",
       "    </tr>\n",
       "  </tbody>\n",
       "</table>\n",
       "<p>8 rows × 223 columns</p>\n",
       "</div>"
      ],
      "text/plain": [
       "            Revenue  Revenue Growth  Cost of Revenue  Gross Profit  \\\n",
       "count  2.090600e+04    19989.000000     2.030600e+04  2.087000e+04   \n",
       "mean   5.161619e+09        3.622214     3.258565e+09  1.970452e+09   \n",
       "std    3.197314e+10      312.648170     2.583092e+10  8.735750e+09   \n",
       "min   -6.276160e+08      -12.769300    -2.986888e+09 -1.280800e+10   \n",
       "25%    5.880737e+07       -0.014700     3.211750e+06  3.035575e+07   \n",
       "50%    4.352510e+08        0.057600     1.530115e+08  1.943525e+08   \n",
       "75%    2.287259e+09        0.182400     1.180224e+09  8.806035e+08   \n",
       "max    1.886894e+12    42138.663900     1.581527e+12  4.621600e+11   \n",
       "\n",
       "       R&D Expenses  SG&A Expense  Operating Expenses  Operating Income  \\\n",
       "count  1.993900e+04  2.040800e+04        2.037500e+04      2.097600e+04   \n",
       "mean   1.033333e+08  8.699279e+08        1.368670e+09      5.896979e+08   \n",
       "std    7.676062e+08  3.804283e+09        5.662984e+09      2.976454e+09   \n",
       "min   -1.098000e+08 -1.401594e+08       -5.495512e+09     -1.933900e+10   \n",
       "25%    0.000000e+00  1.768550e+07        3.564150e+07     -4.433750e+06   \n",
       "50%    0.000000e+00  8.062450e+07        1.564000e+08      3.585350e+07   \n",
       "75%    1.220150e+07  3.699722e+08        6.210870e+08      2.554363e+08   \n",
       "max    2.883700e+10  1.856830e+11        3.056050e+11      1.565540e+11   \n",
       "\n",
       "       Interest Expense  Earnings before Tax  ...  \\\n",
       "count      2.035800e+04         2.071300e+04  ...   \n",
       "mean       9.778939e+07         4.925003e+08  ...   \n",
       "std        4.996543e+08         2.484345e+09  ...   \n",
       "min       -1.710954e+09        -2.177200e+10  ...   \n",
       "25%        0.000000e+00        -8.745000e+06  ...   \n",
       "50%        3.697000e+06         2.380000e+07  ...   \n",
       "75%        4.969325e+07         1.964680e+08  ...   \n",
       "max        3.152300e+10         8.720500e+10  ...   \n",
       "\n",
       "       3Y Dividend per Share Growth (per Share)  Receivables growth  \\\n",
       "count                              18264.000000        19952.000000   \n",
       "mean                                   0.012298           10.978239   \n",
       "std                                    0.263079         1101.098165   \n",
       "min                                   -1.000000           -1.000000   \n",
       "25%                                    0.000000           -0.051125   \n",
       "50%                                    0.000000            0.009500   \n",
       "75%                                    0.040000            0.200550   \n",
       "max                                    5.400500       153332.333300   \n",
       "\n",
       "       Inventory Growth  Asset Growth  Book Value per Share Growth  \\\n",
       "count      19650.000000  19690.000000                 19213.000000   \n",
       "mean           0.158858      1.134221                     0.783208   \n",
       "std            3.268154     45.381079                    66.524006   \n",
       "min           -1.000000     -1.000000                 -3963.131200   \n",
       "25%            0.000000     -0.031075                    -0.103800   \n",
       "50%            0.000000      0.048000                     0.032400   \n",
       "75%            0.058400      0.176800                     0.142100   \n",
       "max          293.473000   5468.426400                  7039.325900   \n",
       "\n",
       "        Debt Growth  R&D Expense Growth  SG&A Expenses Growth  PRICE VAR [%]  \\\n",
       "count  19462.000000        19598.000000          19655.000000   2.207700e+04   \n",
       "mean       3.733922            0.295610              0.365149   2.698893e+02   \n",
       "std      174.864701           12.974127             15.030054   1.934617e+04   \n",
       "min       -1.051000           -2.662200             -2.369900  -1.003972e+02   \n",
       "25%       -0.067475            0.000000             -0.013700  -1.947409e+01   \n",
       "50%        0.000000            0.000000              0.061000   3.909087e+00   \n",
       "75%        0.150075            0.000000              0.185350   2.750567e+01   \n",
       "max    17646.823500         1542.611000           2042.000000   2.418601e+06   \n",
       "\n",
       "              Class  \n",
       "count  22077.000000  \n",
       "mean       0.550754  \n",
       "std        0.497429  \n",
       "min        0.000000  \n",
       "25%        0.000000  \n",
       "50%        1.000000  \n",
       "75%        1.000000  \n",
       "max        1.000000  \n",
       "\n",
       "[8 rows x 223 columns]"
      ]
     },
     "execution_count": 77,
     "metadata": {},
     "output_type": "execute_result"
    }
   ],
   "source": [
    "#Returns description of the data in the DataFrame\n",
    "data.describe()"
   ]
  },
  {
   "cell_type": "code",
   "execution_count": 78,
   "id": "aa284703",
   "metadata": {
    "scrolled": true
   },
   "outputs": [
    {
     "data": {
      "text/plain": [
       "(22077, 225)"
      ]
     },
     "execution_count": 78,
     "metadata": {},
     "output_type": "execute_result"
    }
   ],
   "source": [
    "#Finding number of rows and columns of the dataframe\n",
    "data.shape"
   ]
  },
  {
   "cell_type": "markdown",
   "id": "5e0672af",
   "metadata": {},
   "source": [
    "# Checking whether dataset is balanced or imbalanced"
   ]
  },
  {
   "cell_type": "code",
   "execution_count": 79,
   "id": "d2a680bd",
   "metadata": {
    "scrolled": true
   },
   "outputs": [
    {
     "name": "stdout",
     "output_type": "stream",
     "text": [
      "data class label counts: \n",
      " 1    12159\n",
      "0     9918\n",
      "Name: Class, dtype: int64\n",
      "data class label percentages: \n",
      " 1    55.075418\n",
      "0    44.924582\n",
      "Name: Class, dtype: float64\n",
      "The data is balanced\n"
     ]
    }
   ],
   "source": [
    "#count the number of instances of each class label in train_data\n",
    "count=data['Class'].value_counts()\n",
    "#calculating the percentage of instances for each class label in train_data\n",
    "percentage=count/data.shape[0]*100\n",
    "#printing the class label counts and percentages in train_data\n",
    "print(\"data class label counts: \\n\",count)\n",
    "print(\"data class label percentages: \\n\",percentage)\n",
    "\n",
    "#determining if the train_data is balanced or imbalanced\n",
    "if (percentage[0] < 60 and percentage[1] < 60) or (percentage[0] > 40 and percentage[1] > 40):\n",
    "    print(\"The data is balanced\")\n",
    "else:\n",
    "    print(\"The data is imbalanced\")"
   ]
  },
  {
   "cell_type": "markdown",
   "id": "e97c072c",
   "metadata": {},
   "source": [
    "# Missing values and Outlier Treatment"
   ]
  },
  {
   "cell_type": "code",
   "execution_count": 80,
   "id": "9dbe9f00",
   "metadata": {},
   "outputs": [
    {
     "data": {
      "text/plain": [
       "(22077, 225)"
      ]
     },
     "execution_count": 80,
     "metadata": {},
     "output_type": "execute_result"
    }
   ],
   "source": [
    "data.shape"
   ]
  },
  {
   "cell_type": "code",
   "execution_count": 81,
   "id": "547bc187",
   "metadata": {
    "scrolled": false
   },
   "outputs": [
    {
     "name": "stdout",
     "output_type": "stream",
     "text": [
      "Original shape of dataset: (22077, 225)\n",
      "Shape of dataset after removing outliers: (983, 225)\n"
     ]
    }
   ],
   "source": [
    "# Select numerical columns from train_data\n",
    "num_cols = data.select_dtypes(include=np.number).columns.tolist()\n",
    "\n",
    "# Calculate the IQR for each numerical column\n",
    "Q1 = data[num_cols].quantile(0.25)\n",
    "Q3 = data[num_cols].quantile(0.75)\n",
    "IQR = Q3 - Q1\n",
    "\n",
    "# Calculate the upper and lower bounds for each numerical column\n",
    "lower_bound = Q1 - 1.5 * IQR\n",
    "upper_bound = Q3 + 1.5 * IQR\n",
    "\n",
    "# Identify and remove any values that fall outside of the upper and lower bounds for each column\n",
    "df = data[~((data[num_cols] < lower_bound) | (data[num_cols] > upper_bound)).any(axis=1)]\n",
    "\n",
    "# Print the original and new shape of the dataset to see how many outliers were removed\n",
    "print(\"Original shape of dataset:\", data.shape)\n",
    "print(\"Shape of dataset after removing outliers:\", df.shape)\n",
    "df.to_csv(\"df.csv\")"
   ]
  },
  {
   "cell_type": "code",
   "execution_count": 82,
   "id": "a21731d5",
   "metadata": {
    "scrolled": true
   },
   "outputs": [
    {
     "data": {
      "text/plain": [
       "Unnamed: 0               object\n",
       "Revenue                 float64\n",
       "Revenue Growth          float64\n",
       "Cost of Revenue         float64\n",
       "Gross Profit            float64\n",
       "                         ...   \n",
       "R&D Expense Growth      float64\n",
       "SG&A Expenses Growth    float64\n",
       "Sector                   object\n",
       "PRICE VAR [%]           float64\n",
       "Class                     int64\n",
       "Length: 225, dtype: object"
      ]
     },
     "execution_count": 82,
     "metadata": {},
     "output_type": "execute_result"
    }
   ],
   "source": [
    "data.dtypes"
   ]
  },
  {
   "cell_type": "code",
   "execution_count": 83,
   "id": "051ecdd0",
   "metadata": {},
   "outputs": [
    {
     "data": {
      "text/html": [
       "<div>\n",
       "<style scoped>\n",
       "    .dataframe tbody tr th:only-of-type {\n",
       "        vertical-align: middle;\n",
       "    }\n",
       "\n",
       "    .dataframe tbody tr th {\n",
       "        vertical-align: top;\n",
       "    }\n",
       "\n",
       "    .dataframe thead th {\n",
       "        text-align: right;\n",
       "    }\n",
       "</style>\n",
       "<table border=\"1\" class=\"dataframe\">\n",
       "  <thead>\n",
       "    <tr style=\"text-align: right;\">\n",
       "      <th></th>\n",
       "      <th>Total Missing Values</th>\n",
       "      <th>% of Missing Values</th>\n",
       "    </tr>\n",
       "  </thead>\n",
       "  <tbody>\n",
       "    <tr>\n",
       "      <th>Unnamed: 0</th>\n",
       "      <td>0</td>\n",
       "      <td>0.000000</td>\n",
       "    </tr>\n",
       "    <tr>\n",
       "      <th>Revenue</th>\n",
       "      <td>1171</td>\n",
       "      <td>5.304163</td>\n",
       "    </tr>\n",
       "    <tr>\n",
       "      <th>Revenue Growth</th>\n",
       "      <td>2088</td>\n",
       "      <td>9.457807</td>\n",
       "    </tr>\n",
       "    <tr>\n",
       "      <th>Cost of Revenue</th>\n",
       "      <td>1771</td>\n",
       "      <td>8.021923</td>\n",
       "    </tr>\n",
       "    <tr>\n",
       "      <th>Gross Profit</th>\n",
       "      <td>1207</td>\n",
       "      <td>5.467228</td>\n",
       "    </tr>\n",
       "    <tr>\n",
       "      <th>...</th>\n",
       "      <td>...</td>\n",
       "      <td>...</td>\n",
       "    </tr>\n",
       "    <tr>\n",
       "      <th>R&amp;D Expense Growth</th>\n",
       "      <td>2479</td>\n",
       "      <td>11.228881</td>\n",
       "    </tr>\n",
       "    <tr>\n",
       "      <th>SG&amp;A Expenses Growth</th>\n",
       "      <td>2422</td>\n",
       "      <td>10.970693</td>\n",
       "    </tr>\n",
       "    <tr>\n",
       "      <th>Sector</th>\n",
       "      <td>0</td>\n",
       "      <td>0.000000</td>\n",
       "    </tr>\n",
       "    <tr>\n",
       "      <th>PRICE VAR [%]</th>\n",
       "      <td>0</td>\n",
       "      <td>0.000000</td>\n",
       "    </tr>\n",
       "    <tr>\n",
       "      <th>Class</th>\n",
       "      <td>0</td>\n",
       "      <td>0.000000</td>\n",
       "    </tr>\n",
       "  </tbody>\n",
       "</table>\n",
       "<p>225 rows × 2 columns</p>\n",
       "</div>"
      ],
      "text/plain": [
       "                      Total Missing Values  % of Missing Values\n",
       "Unnamed: 0                               0             0.000000\n",
       "Revenue                               1171             5.304163\n",
       "Revenue Growth                        2088             9.457807\n",
       "Cost of Revenue                       1771             8.021923\n",
       "Gross Profit                          1207             5.467228\n",
       "...                                    ...                  ...\n",
       "R&D Expense Growth                    2479            11.228881\n",
       "SG&A Expenses Growth                  2422            10.970693\n",
       "Sector                                   0             0.000000\n",
       "PRICE VAR [%]                            0             0.000000\n",
       "Class                                    0             0.000000\n",
       "\n",
       "[225 rows x 2 columns]"
      ]
     },
     "execution_count": 83,
     "metadata": {},
     "output_type": "execute_result"
    }
   ],
   "source": [
    "# Checking for missing values in the train data\n",
    "missing_data = pd.concat([data.isnull().sum(), data.isnull().mean()*100], axis=1)\n",
    "missing_data.columns = ['Total Missing Values', '% of Missing Values']\n",
    "missing_data\n"
   ]
  },
  {
   "cell_type": "code",
   "execution_count": 84,
   "id": "b91142b8",
   "metadata": {},
   "outputs": [
    {
     "name": "stdout",
     "output_type": "stream",
     "text": [
      "Number of columns with missing values in data: 221\n"
     ]
    }
   ],
   "source": [
    "# Checking for missing values in train data\n",
    "missing = data.isnull().sum()\n",
    "missing_cols = missing[missing > 0].index.tolist()\n",
    "print(\"Number of columns with missing values in data:\", len(missing_cols))"
   ]
  },
  {
   "cell_type": "code",
   "execution_count": 85,
   "id": "f15be97d",
   "metadata": {},
   "outputs": [
    {
     "data": {
      "text/plain": [
       "['operatingCycle', 'cashConversionCycle']"
      ]
     },
     "execution_count": 85,
     "metadata": {},
     "output_type": "execute_result"
    }
   ],
   "source": [
    "# calculate percentage of missing values in each column\n",
    "percent_missing = data.isnull().sum() * 100 / len(data)\n",
    "\n",
    "# create a list of columns with more than 50% missing values\n",
    "missing_cols = percent_missing[percent_missing > 50].index.tolist()\n",
    "missing_cols"
   ]
  },
  {
   "cell_type": "code",
   "execution_count": 86,
   "id": "72c40f4c",
   "metadata": {},
   "outputs": [],
   "source": [
    "# drop columns from both train and test data\n",
    "data = data.drop(columns=missing_cols)"
   ]
  },
  {
   "cell_type": "code",
   "execution_count": 87,
   "id": "746c3d9b",
   "metadata": {},
   "outputs": [],
   "source": [
    "#Identify columns with missing values in train_df\n",
    "missing_cols = data.columns[data.isnull().any()].tolist()\n",
    "\n",
    "#Fill missing values with median value for numerical columns and mode value for categorical columns\n",
    "for col in missing_cols:\n",
    "    if data[col].dtype == np.number:\n",
    "        data[col].fillna(data[col].median(), inplace=True)\n",
    "    else:\n",
    "        data[col].fillna(data[col].mode()[0], inplace=True)"
   ]
  },
  {
   "cell_type": "code",
   "execution_count": 88,
   "id": "2736e364",
   "metadata": {},
   "outputs": [
    {
     "data": {
      "text/plain": [
       "0"
      ]
     },
     "execution_count": 88,
     "metadata": {},
     "output_type": "execute_result"
    }
   ],
   "source": [
    "data.isnull().sum().sum()"
   ]
  },
  {
   "cell_type": "code",
   "execution_count": 89,
   "id": "8d7c2a91",
   "metadata": {
    "scrolled": true
   },
   "outputs": [
    {
     "data": {
      "text/html": [
       "<div>\n",
       "<style scoped>\n",
       "    .dataframe tbody tr th:only-of-type {\n",
       "        vertical-align: middle;\n",
       "    }\n",
       "\n",
       "    .dataframe tbody tr th {\n",
       "        vertical-align: top;\n",
       "    }\n",
       "\n",
       "    .dataframe thead th {\n",
       "        text-align: right;\n",
       "    }\n",
       "</style>\n",
       "<table border=\"1\" class=\"dataframe\">\n",
       "  <thead>\n",
       "    <tr style=\"text-align: right;\">\n",
       "      <th></th>\n",
       "      <th>Unnamed: 0</th>\n",
       "      <th>Revenue</th>\n",
       "      <th>Revenue Growth</th>\n",
       "      <th>Cost of Revenue</th>\n",
       "      <th>Gross Profit</th>\n",
       "      <th>R&amp;D Expenses</th>\n",
       "      <th>SG&amp;A Expense</th>\n",
       "      <th>Operating Expenses</th>\n",
       "      <th>Operating Income</th>\n",
       "      <th>Interest Expense</th>\n",
       "      <th>...</th>\n",
       "      <th>Receivables growth</th>\n",
       "      <th>Inventory Growth</th>\n",
       "      <th>Asset Growth</th>\n",
       "      <th>Book Value per Share Growth</th>\n",
       "      <th>Debt Growth</th>\n",
       "      <th>R&amp;D Expense Growth</th>\n",
       "      <th>SG&amp;A Expenses Growth</th>\n",
       "      <th>Sector</th>\n",
       "      <th>PRICE VAR [%]</th>\n",
       "      <th>Class</th>\n",
       "    </tr>\n",
       "  </thead>\n",
       "  <tbody>\n",
       "    <tr>\n",
       "      <th>0</th>\n",
       "      <td>PG</td>\n",
       "      <td>7.440100e+10</td>\n",
       "      <td>-0.0713</td>\n",
       "      <td>3.903000e+10</td>\n",
       "      <td>3.537100e+10</td>\n",
       "      <td>0.000000e+00</td>\n",
       "      <td>2.146100e+10</td>\n",
       "      <td>2.146100e+10</td>\n",
       "      <td>1.391000e+10</td>\n",
       "      <td>7.090000e+08</td>\n",
       "      <td>...</td>\n",
       "      <td>-0.0187</td>\n",
       "      <td>-0.0217</td>\n",
       "      <td>0.0359</td>\n",
       "      <td>0.0316</td>\n",
       "      <td>0.1228</td>\n",
       "      <td>0.0000</td>\n",
       "      <td>-0.1746</td>\n",
       "      <td>Consumer Defensive</td>\n",
       "      <td>-9.323276</td>\n",
       "      <td>0</td>\n",
       "    </tr>\n",
       "    <tr>\n",
       "      <th>1</th>\n",
       "      <td>VIPS</td>\n",
       "      <td>3.734148e+09</td>\n",
       "      <td>1.1737</td>\n",
       "      <td>2.805625e+09</td>\n",
       "      <td>9.285226e+08</td>\n",
       "      <td>1.083303e+08</td>\n",
       "      <td>3.441414e+08</td>\n",
       "      <td>7.939267e+08</td>\n",
       "      <td>1.345959e+08</td>\n",
       "      <td>1.214869e+07</td>\n",
       "      <td>...</td>\n",
       "      <td>0.0095</td>\n",
       "      <td>0.0000</td>\n",
       "      <td>0.0480</td>\n",
       "      <td>0.0324</td>\n",
       "      <td>0.0000</td>\n",
       "      <td>1.6484</td>\n",
       "      <td>1.7313</td>\n",
       "      <td>Consumer Defensive</td>\n",
       "      <td>-25.512193</td>\n",
       "      <td>0</td>\n",
       "    </tr>\n",
       "    <tr>\n",
       "      <th>2</th>\n",
       "      <td>KR</td>\n",
       "      <td>9.837500e+10</td>\n",
       "      <td>0.0182</td>\n",
       "      <td>7.813800e+10</td>\n",
       "      <td>2.023700e+10</td>\n",
       "      <td>0.000000e+00</td>\n",
       "      <td>1.519600e+10</td>\n",
       "      <td>1.751200e+10</td>\n",
       "      <td>2.725000e+09</td>\n",
       "      <td>4.430000e+08</td>\n",
       "      <td>...</td>\n",
       "      <td>0.0618</td>\n",
       "      <td>0.0981</td>\n",
       "      <td>0.1886</td>\n",
       "      <td>0.3268</td>\n",
       "      <td>0.2738</td>\n",
       "      <td>0.0000</td>\n",
       "      <td>0.0234</td>\n",
       "      <td>Consumer Defensive</td>\n",
       "      <td>33.118297</td>\n",
       "      <td>1</td>\n",
       "    </tr>\n",
       "    <tr>\n",
       "      <th>3</th>\n",
       "      <td>RAD</td>\n",
       "      <td>2.552641e+10</td>\n",
       "      <td>0.0053</td>\n",
       "      <td>1.820268e+10</td>\n",
       "      <td>7.323734e+09</td>\n",
       "      <td>0.000000e+00</td>\n",
       "      <td>6.561162e+09</td>\n",
       "      <td>6.586482e+09</td>\n",
       "      <td>7.372520e+08</td>\n",
       "      <td>4.245910e+08</td>\n",
       "      <td>...</td>\n",
       "      <td>0.0211</td>\n",
       "      <td>-0.0510</td>\n",
       "      <td>-0.0189</td>\n",
       "      <td>0.1963</td>\n",
       "      <td>-0.0458</td>\n",
       "      <td>0.0000</td>\n",
       "      <td>-0.0060</td>\n",
       "      <td>Consumer Defensive</td>\n",
       "      <td>2.752291</td>\n",
       "      <td>1</td>\n",
       "    </tr>\n",
       "    <tr>\n",
       "      <th>4</th>\n",
       "      <td>GIS</td>\n",
       "      <td>1.790960e+10</td>\n",
       "      <td>0.0076</td>\n",
       "      <td>1.153980e+10</td>\n",
       "      <td>6.369800e+09</td>\n",
       "      <td>0.000000e+00</td>\n",
       "      <td>3.474300e+09</td>\n",
       "      <td>3.412400e+09</td>\n",
       "      <td>2.957400e+09</td>\n",
       "      <td>3.024000e+08</td>\n",
       "      <td>...</td>\n",
       "      <td>0.0257</td>\n",
       "      <td>0.0090</td>\n",
       "      <td>0.0215</td>\n",
       "      <td>0.0274</td>\n",
       "      <td>0.1025</td>\n",
       "      <td>0.0000</td>\n",
       "      <td>-0.0220</td>\n",
       "      <td>Consumer Defensive</td>\n",
       "      <td>12.897715</td>\n",
       "      <td>1</td>\n",
       "    </tr>\n",
       "  </tbody>\n",
       "</table>\n",
       "<p>5 rows × 223 columns</p>\n",
       "</div>"
      ],
      "text/plain": [
       "  Unnamed: 0       Revenue  Revenue Growth  Cost of Revenue  Gross Profit  \\\n",
       "0         PG  7.440100e+10         -0.0713     3.903000e+10  3.537100e+10   \n",
       "1       VIPS  3.734148e+09          1.1737     2.805625e+09  9.285226e+08   \n",
       "2         KR  9.837500e+10          0.0182     7.813800e+10  2.023700e+10   \n",
       "3        RAD  2.552641e+10          0.0053     1.820268e+10  7.323734e+09   \n",
       "4        GIS  1.790960e+10          0.0076     1.153980e+10  6.369800e+09   \n",
       "\n",
       "   R&D Expenses  SG&A Expense  Operating Expenses  Operating Income  \\\n",
       "0  0.000000e+00  2.146100e+10        2.146100e+10      1.391000e+10   \n",
       "1  1.083303e+08  3.441414e+08        7.939267e+08      1.345959e+08   \n",
       "2  0.000000e+00  1.519600e+10        1.751200e+10      2.725000e+09   \n",
       "3  0.000000e+00  6.561162e+09        6.586482e+09      7.372520e+08   \n",
       "4  0.000000e+00  3.474300e+09        3.412400e+09      2.957400e+09   \n",
       "\n",
       "   Interest Expense  ...  Receivables growth  Inventory Growth  Asset Growth  \\\n",
       "0      7.090000e+08  ...             -0.0187           -0.0217        0.0359   \n",
       "1      1.214869e+07  ...              0.0095            0.0000        0.0480   \n",
       "2      4.430000e+08  ...              0.0618            0.0981        0.1886   \n",
       "3      4.245910e+08  ...              0.0211           -0.0510       -0.0189   \n",
       "4      3.024000e+08  ...              0.0257            0.0090        0.0215   \n",
       "\n",
       "   Book Value per Share Growth  Debt Growth  R&D Expense Growth  \\\n",
       "0                       0.0316       0.1228              0.0000   \n",
       "1                       0.0324       0.0000              1.6484   \n",
       "2                       0.3268       0.2738              0.0000   \n",
       "3                       0.1963      -0.0458              0.0000   \n",
       "4                       0.0274       0.1025              0.0000   \n",
       "\n",
       "   SG&A Expenses Growth              Sector  PRICE VAR [%]  Class  \n",
       "0               -0.1746  Consumer Defensive      -9.323276      0  \n",
       "1                1.7313  Consumer Defensive     -25.512193      0  \n",
       "2                0.0234  Consumer Defensive      33.118297      1  \n",
       "3               -0.0060  Consumer Defensive       2.752291      1  \n",
       "4               -0.0220  Consumer Defensive      12.897715      1  \n",
       "\n",
       "[5 rows x 223 columns]"
      ]
     },
     "execution_count": 89,
     "metadata": {},
     "output_type": "execute_result"
    }
   ],
   "source": [
    "data.head()"
   ]
  },
  {
   "cell_type": "markdown",
   "id": "87dd2026",
   "metadata": {},
   "source": [
    "# Conversion of categorical to numerical"
   ]
  },
  {
   "cell_type": "code",
   "execution_count": 90,
   "id": "3d87f6df",
   "metadata": {},
   "outputs": [
    {
     "data": {
      "text/plain": [
       "Unnamed: 0               object\n",
       "Revenue                 float64\n",
       "Revenue Growth          float64\n",
       "Cost of Revenue         float64\n",
       "Gross Profit            float64\n",
       "                         ...   \n",
       "R&D Expense Growth      float64\n",
       "SG&A Expenses Growth    float64\n",
       "Sector                   object\n",
       "PRICE VAR [%]           float64\n",
       "Class                     int64\n",
       "Length: 223, dtype: object"
      ]
     },
     "execution_count": 90,
     "metadata": {},
     "output_type": "execute_result"
    }
   ],
   "source": [
    "data.dtypes"
   ]
  },
  {
   "cell_type": "code",
   "execution_count": 91,
   "id": "d3706dd8",
   "metadata": {
    "scrolled": false
   },
   "outputs": [
    {
     "data": {
      "text/plain": [
       "0       Consumer Defensive\n",
       "1       Consumer Defensive\n",
       "2       Consumer Defensive\n",
       "3       Consumer Defensive\n",
       "4       Consumer Defensive\n",
       "               ...        \n",
       "4387           Real Estate\n",
       "4388       Basic Materials\n",
       "4389       Basic Materials\n",
       "4390           Industrials\n",
       "4391            Healthcare\n",
       "Name: Sector, Length: 22077, dtype: object"
      ]
     },
     "execution_count": 91,
     "metadata": {},
     "output_type": "execute_result"
    }
   ],
   "source": [
    "data.Sector"
   ]
  },
  {
   "cell_type": "code",
   "execution_count": 92,
   "id": "866d6303",
   "metadata": {},
   "outputs": [
    {
     "data": {
      "text/plain": [
       "array(['Consumer Defensive', 'Basic Materials', 'Healthcare',\n",
       "       'Consumer Cyclical', 'Industrials', 'Real Estate',\n",
       "       'Communication Services', 'Energy', 'Financial Services',\n",
       "       'Utilities', 'Technology'], dtype=object)"
      ]
     },
     "execution_count": 92,
     "metadata": {},
     "output_type": "execute_result"
    }
   ],
   "source": [
    "# Find the number of unique values in a column\n",
    "unique = data['Sector'].unique()\n",
    "unique"
   ]
  },
  {
   "cell_type": "code",
   "execution_count": 93,
   "id": "d90aa2f9",
   "metadata": {},
   "outputs": [
    {
     "name": "stdout",
     "output_type": "stream",
     "text": [
      "0       0\n",
      "1       0\n",
      "2       0\n",
      "3       0\n",
      "4       0\n",
      "       ..\n",
      "4387    5\n",
      "4388    1\n",
      "4389    1\n",
      "4390    4\n",
      "4391    2\n",
      "Name: Sector, Length: 22077, dtype: int64\n"
     ]
    }
   ],
   "source": [
    "# Create a dictionary to map the unique values to numerical values\n",
    "sector_dict = {}\n",
    "for i, sector in enumerate(unique):\n",
    "    sector_dict[sector] = i\n",
    "\n",
    "# Replace the categorical values with numerical values\n",
    "data['Sector'] = data['Sector'].replace(sector_dict)\n",
    "\n",
    "print(data['Sector'])"
   ]
  },
  {
   "cell_type": "code",
   "execution_count": 94,
   "id": "99864ae9",
   "metadata": {
    "scrolled": false
   },
   "outputs": [
    {
     "data": {
      "text/plain": [
       "(22077, 223)"
      ]
     },
     "execution_count": 94,
     "metadata": {},
     "output_type": "execute_result"
    }
   ],
   "source": [
    "data.shape"
   ]
  },
  {
   "cell_type": "code",
   "execution_count": 95,
   "id": "3800d27b",
   "metadata": {},
   "outputs": [],
   "source": [
    "data=data.drop(\"Unnamed: 0\",axis=1)"
   ]
  },
  {
   "cell_type": "markdown",
   "id": "7b538147",
   "metadata": {},
   "source": [
    "# **Input-Output Split"
   ]
  },
  {
   "cell_type": "code",
   "execution_count": 96,
   "id": "11346fab",
   "metadata": {},
   "outputs": [],
   "source": [
    "# Split the dataset into training and testing sets\n",
    "train_data = data.iloc[:20000,:]\n",
    "test_data = data.iloc[20000:,:]"
   ]
  },
  {
   "cell_type": "markdown",
   "id": "bd4d80e8",
   "metadata": {},
   "source": [
    "# **Train-Test Split"
   ]
  },
  {
   "cell_type": "code",
   "execution_count": 97,
   "id": "85c79a0f",
   "metadata": {},
   "outputs": [],
   "source": [
    "# Separate the features and target variables\n",
    "X_train = train_data.drop(\"Class\", axis=1).values\n",
    "y_train = train_data[\"Class\"].values\n",
    "X_test = test_data.drop(\"Class\", axis=1).values\n",
    "y_test = test_data[\"Class\"].values"
   ]
  },
  {
   "cell_type": "markdown",
   "id": "1c0988e4",
   "metadata": {},
   "source": [
    "# **Feature Selection"
   ]
  },
  {
   "cell_type": "code",
   "execution_count": 98,
   "id": "c0788c2e",
   "metadata": {
    "scrolled": true
   },
   "outputs": [
    {
     "name": "stdout",
     "output_type": "stream",
     "text": [
      "Selected features: ['Dividend payments', 'Earnings before Tax', 'Free Cash Flow', 'Operating Income', 'Stock-based compensation']\n",
      "Shape of X_train_selected: (20000, 5)\n",
      "Shape of X_test_selected: (2077, 5)\n"
     ]
    }
   ],
   "source": [
    "# Compute the Pearson correlation coefficient between each feature and the target variable\n",
    "correlations = {}\n",
    "for i, feature_name in enumerate(data.columns[:-1]):\n",
    "    correlation = np.corrcoef(X_train[:, i], y_train)[0, 1]\n",
    "    correlations[feature_name] = correlation\n",
    "\n",
    "# Sort the features by their correlation with the target variable\n",
    "sorted_features = sorted(correlations.items(), key=lambda x: abs(x[1]), reverse=True)\n",
    "\n",
    "# Select the top 5 features with the highest correlation with the target variable\n",
    "selected_features = [f[0] for f in sorted_features[:5]]\n",
    "\n",
    "# Select the same features from X_train and X_test\n",
    "X_train_selected = X_train[:, [np.where(data.columns == feature_name)[0][0] for feature_name in selected_features]]\n",
    "X_test_selected = X_test[:, [np.where(data.columns == feature_name)[0][0] for feature_name in selected_features]]\n",
    "\n",
    "print('Selected features:', selected_features)\n",
    "print('Shape of X_train_selected:', X_train_selected.shape)\n",
    "print('Shape of X_test_selected:', X_test_selected.shape)\n"
   ]
  },
  {
   "cell_type": "markdown",
   "id": "e2f8f099",
   "metadata": {},
   "source": [
    "# **Feature Scaling"
   ]
  },
  {
   "cell_type": "code",
   "execution_count": 31,
   "id": "55077083",
   "metadata": {
    "scrolled": true
   },
   "outputs": [
    {
     "name": "stdout",
     "output_type": "stream",
     "text": [
      "X_train_scaled shape (20000, 5)\n",
      "X_test_scaled shape (2077, 5)\n"
     ]
    }
   ],
   "source": [
    "# Compute the mean and standard deviation of each feature in X_train_selected\n",
    "means = np.mean(X_train_selected, axis=0)\n",
    "stds = np.std(X_train_selected, axis=0)\n",
    "\n",
    "# Perform feature scaling on X_train_selected and X_test_selected\n",
    "X_train_scaled = (X_train_selected - means) / stds\n",
    "X_test_scaled = (X_test_selected - means) / stds\n",
    "print('X_train_scaled shape',X_train_scaled.shape)\n",
    "print('X_test_scaled shape',X_test_scaled.shape)"
   ]
  },
  {
   "cell_type": "markdown",
   "id": "8d0a97a6",
   "metadata": {},
   "source": [
    "# **Implementing Gaussian Naive Bayes Algorithm"
   ]
  },
  {
   "cell_type": "code",
   "execution_count": 32,
   "id": "a06d7525",
   "metadata": {},
   "outputs": [],
   "source": [
    "# Define the Gaussian Naive Bayes algorithm\n",
    "class GaussianNaiveBayes:\n",
    "    def fit(self, X_train_scaled, y_train):\n",
    "        self.classes = np.unique(y_train)\n",
    "        self.mean = np.zeros((len(self.classes), X_train_scaled.shape[1]))\n",
    "        self.var = np.zeros((len(self.classes), X_train_scaled.shape[1]))\n",
    "\n",
    "        for i, c in enumerate(self.classes):\n",
    "            X_c = X_train_scaled[y_train == c]\n",
    "            self.mean[i, :] = X_c.mean(axis=0)\n",
    "            self.var[i, :] = X_c.var(axis=0)\n",
    "    \n",
    "    def prob_density(self, class_idx, x):\n",
    "        mean = self.mean[class_idx]\n",
    "        var = self.var[class_idx]\n",
    "        numerator = np.exp(-((x-mean)**2) / (2 * var))\n",
    "        denominator = np.sqrt(2 * np.pi * var)\n",
    "        return numerator / denominator\n",
    "\n",
    "    def predict(self, X_test_scaled):\n",
    "        y_pred = np.zeros(X_test_scaled.shape[0])\n",
    "\n",
    "        for i, x in enumerate(X_test_scaled):\n",
    "            posteriors = []\n",
    "\n",
    "            for j, c in enumerate(self.classes):\n",
    "                prior = np.log(len(X_train_scaled[y_train==c]) / len(X_train_scaled))\n",
    "                posterior = np.sum(np.log(self.prob_density(j, x)))\n",
    "                posterior = prior + posterior\n",
    "                posteriors.append(posterior)\n",
    "\n",
    "            y_pred[i] = self.classes[np.argmax(posteriors)]\n",
    "\n",
    "        return y_pred\n",
    "    "
   ]
  },
  {
   "cell_type": "code",
   "execution_count": 33,
   "id": "32de30f3",
   "metadata": {},
   "outputs": [],
   "source": [
    "#import time to calculate start and end time\n",
    "import time\n",
    "# record start time\n",
    "start_time = time.time()"
   ]
  },
  {
   "cell_type": "code",
   "execution_count": 34,
   "id": "15c44c1e",
   "metadata": {},
   "outputs": [],
   "source": [
    "# Train the model on the training data\n",
    "gnb = GaussianNaiveBayes()\n",
    "gnb.fit(X_train_scaled, y_train)\n",
    "\n",
    "# Make predictions on the testing data\n",
    "y_pred = gnb.predict(X_test_scaled)"
   ]
  },
  {
   "cell_type": "code",
   "execution_count": 35,
   "id": "a0a0ddb7",
   "metadata": {},
   "outputs": [
    {
     "name": "stdout",
     "output_type": "stream",
     "text": [
      "Time taken to run the model: 1.10 seconds\n"
     ]
    }
   ],
   "source": [
    "# record end time\n",
    "end_time = time.time()\n",
    "\n",
    "# calculate the time taken to fit the model\n",
    "time_taken = end_time - start_time\n",
    "\n",
    "# print the time taken\n",
    "print(\"Time taken to run the model: {:.2f} seconds\".format(time_taken))"
   ]
  },
  {
   "cell_type": "code",
   "execution_count": 36,
   "id": "444cd5d7",
   "metadata": {},
   "outputs": [
    {
     "data": {
      "text/plain": [
       "array([1., 1., 1., ..., 1., 1., 1.])"
      ]
     },
     "execution_count": 36,
     "metadata": {},
     "output_type": "execute_result"
    }
   ],
   "source": [
    "y_pred"
   ]
  },
  {
   "cell_type": "markdown",
   "id": "ca8872c2",
   "metadata": {},
   "source": [
    "# **Model Performance"
   ]
  },
  {
   "cell_type": "code",
   "execution_count": 37,
   "id": "0ae667c4",
   "metadata": {},
   "outputs": [
    {
     "name": "stdout",
     "output_type": "stream",
     "text": [
      "Accuracy: 0.6326432354357246\n"
     ]
    }
   ],
   "source": [
    "accuracy = np.sum(y_test == y_pred) / len(y_test)\n",
    "print(f'Accuracy: {accuracy}')"
   ]
  },
  {
   "cell_type": "code",
   "execution_count": 38,
   "id": "fad5712a",
   "metadata": {
    "scrolled": true
   },
   "outputs": [
    {
     "name": "stdout",
     "output_type": "stream",
     "text": [
      "Normalized confusion matrix\n",
      "[[0.67842876 0.32157124]\n",
      " [0.48695652 0.51304348]]\n"
     ]
    },
    {
     "data": {
      "image/png": "[encoded data removed]",
      "text/plain": [
       "<Figure size 640x480 with 2 Axes>"
      ]
     },
     "metadata": {},
     "output_type": "display_data"
    }
   ],
   "source": [
    "def confusion_matrix(y_pred, y_test): \n",
    "    matrix = np.zeros((2,2)) \n",
    "    for i in range(len(y_pred)): \n",
    "        if int(y_pred[i])==1 and int(y_test[i])==1: \n",
    "            matrix[0,0]+=1 #True Positives\n",
    "        elif int(y_pred[i])==1 and int(y_test[i])==0:\n",
    "            matrix[0,1]+=1 #False Positives\n",
    "        elif int(y_pred[i])==0 and int(y_test[i])==1:\n",
    "            matrix[1,0]+=1 #False Negatives\n",
    "        elif int(y_pred[i])==0 and int(y_test[i])==0:\n",
    "            matrix[1,1]+=1 #True Negatives\n",
    "    accuracy = (matrix[0,0]+matrix[1,1])/(matrix[0,0]+matrix[1,1]+matrix[0,1]+matrix[1,0])\n",
    "    precision = matrix[0,0]/(matrix[0,0]+matrix[0,1])\n",
    "    recall = matrix[0,0]/(matrix[0,0]+matrix[1,0])\n",
    "    f1 = 2 * (precision * recall) / (precision + recall)\n",
    "    return matrix,accuracy, precision, recall, f1\n",
    "\n",
    "def plot_confusion_matrix(cm, classes, normalize=False, title='Confusion matrix', cmap=plt.cm.Blues):\n",
    "    \"\"\"\n",
    "    This function prints and plots the confusion matrix.\n",
    "    Normalization can be applied by setting `normalize=True`.\n",
    "    \"\"\"\n",
    "    if normalize:\n",
    "        cm = cm.astype('float') / cm.sum(axis=1)[:, np.newaxis]\n",
    "        print(\"Normalized confusion matrix\")\n",
    "    else:\n",
    "        print('Confusion matrix, without normalization')\n",
    "\n",
    "    print(cm)\n",
    "\n",
    "    plt.imshow(cm, interpolation='nearest', cmap=cmap)\n",
    "    plt.title(title)\n",
    "    plt.colorbar()\n",
    "    tick_marks = np.arange(len(classes))\n",
    "    plt.xticks(tick_marks, classes, rotation=45)\n",
    "    plt.yticks(tick_marks, classes)\n",
    "\n",
    "    fmt = '.2f' if normalize else 'd'\n",
    "    thresh = cm.max() / 2.\n",
    "    for i, j in np.ndindex(cm.shape):\n",
    "        plt.text(j, i, format(cm[i, j], fmt),\n",
    "                 horizontalalignment=\"center\",\n",
    "                 color=\"red\" if cm[i, j] > thresh else \"black\")\n",
    "\n",
    "    plt.tight_layout()\n",
    "    plt.ylabel('True label')\n",
    "    plt.xlabel('Predicted label')\n",
    "    \n",
    "cm, accuracy, precision, recall, f1 = confusion_matrix(y_pred, y_test)\n",
    "plot_confusion_matrix(cm, classes=['Negative', 'Positive'], normalize=True, title='Confusion matrix')"
   ]
  },
  {
   "cell_type": "code",
   "execution_count": 39,
   "id": "d189e1c9",
   "metadata": {},
   "outputs": [
    {
     "name": "stdout",
     "output_type": "stream",
     "text": [
      "+-----------+--------------------+--------------------+--------------------+---------+\n",
      "|   Class   |     Precision      |       Recall       |      F1-score      | Support |\n",
      "+-----------+--------------------+--------------------+--------------------+---------+\n",
      "|     0     | 0.5130434782608696 | 0.3791773778920309 | 0.4360679970436068 |   778   |\n",
      "|     1     | 0.6784287616511319 | 0.7844495765973826 | 0.7275972866833275 |   1299  |\n",
      "| macro avg | 0.5957361199560007 | 0.5818134772447068 | 0.5818326418634672 |   2077  |\n",
      "| micro avg | 0.616478954006633  | 0.6326432354357246 | 0.6183966187296912 |   2077  |\n",
      "+-----------+--------------------+--------------------+--------------------+---------+\n"
     ]
    }
   ],
   "source": [
    "# Define a function to compute the classification report\n",
    "def classification_report(y_test, y_pred):\n",
    "    classes = np.unique(y_test)\n",
    "    report = {'accuracy': np.mean(y_test == y_pred)}\n",
    "\n",
    "    # Compute precision, recall, and F1-score for each class\n",
    "    for c in classes:\n",
    "        true_indices = np.where(y_test == c)[0]\n",
    "        pred_indices = np.where(y_pred == c)[0]\n",
    "        tp = len(np.intersect1d(true_indices, pred_indices))\n",
    "        fp = len(pred_indices) - tp\n",
    "        fn = len(true_indices) - tp\n",
    "        precision = tp / (tp + fp) if (tp + fp) > 0 else 0\n",
    "        recall = tp / (tp + fn) if (tp + fn) > 0 else 0\n",
    "        f1_score = 2 * precision * recall / (precision + recall) if (precision + recall) > 0 else 0\n",
    "        report[c] = {'precision': precision, 'recall': recall, 'f1-score': f1_score, 'support': len(true_indices)}\n",
    "\n",
    "    # Compute macro-average precision, recall, and F1-score\n",
    "    macro_precision = np.mean([report[c]['precision'] for c in classes])\n",
    "    macro_recall = np.mean([report[c]['recall'] for c in classes])\n",
    "    macro_f1_score = np.mean([report[c]['f1-score'] for c in classes])\n",
    "    report['macro avg'] = {'precision': macro_precision, 'recall': macro_recall, 'f1-score': macro_f1_score,\n",
    "                           'support': len(y_test)}\n",
    "\n",
    "    # Compute micro-average precision, recall, and F1-score\n",
    "    micro_precision = np.sum([report[c]['precision'] * report[c]['support'] for c in classes]) / len(y_test)\n",
    "    micro_recall = np.sum([report[c]['recall'] * report[c]['support'] for c in classes]) / len(y_test)\n",
    "    micro_f1_score = np.sum([report[c]['f1-score'] * report[c]['support'] for c in classes]) / len(y_test)\n",
    "    report['micro avg'] = {'precision': micro_precision, 'recall': micro_recall, 'f1-score': micro_f1_score,\n",
    "                           'support': len(y_test)}\n",
    "\n",
    "    return report\n",
    "\n",
    "# Compute the classification report\n",
    "report = classification_report(y_test, y_pred)\n",
    "\n",
    "# Define the column names for the table\n",
    "columns = ['Class', 'Precision', 'Recall', 'F1-score', 'Support']\n",
    "\n",
    "# Create the table object\n",
    "from prettytable import PrettyTable\n",
    "table = PrettyTable(columns)\n",
    "\n",
    "# Add the rows to the table\n",
    "for c in report.keys():\n",
    "    if c not in ['accuracy', 'macro avg', 'micro avg']:\n",
    "        precision = report[c]['precision']\n",
    "        recall = report[c]['recall']\n",
    "        f1_score = report[c]['f1-score']\n",
    "        support = report[c]['support']\n",
    "        row = [c, precision, recall, f1_score, support]\n",
    "        table.add_row(row)\n",
    "\n",
    "# Add the macro-average row to the table\n",
    "macro_precision = report['macro avg']['precision']\n",
    "macro_recall = report['macro avg']['recall']\n",
    "macro_f1_score = report['macro avg']['f1-score']\n",
    "macro_support = report['macro avg']['support']\n",
    "macro_row = ['macro avg', macro_precision, macro_recall, macro_f1_score, macro_support]\n",
    "table.add_row(macro_row)\n",
    "\n",
    "micro_precision = report['micro avg']['precision']\n",
    "micro_recall = report['micro avg']['recall']\n",
    "micro_f1_score = report['micro avg']['f1-score']\n",
    "micro_support = report['micro avg']['support']\n",
    "micro_row = ['micro avg', micro_precision, micro_recall, micro_f1_score, micro_support]\n",
    "table.add_row(micro_row)\n",
    "\n",
    "print(table)\n"
   ]
  },
  {
   "cell_type": "code",
   "execution_count": 40,
   "id": "bccc43a1",
   "metadata": {},
   "outputs": [],
   "source": [
    "def confusion_matrix(y_pred, y_test): \n",
    "    matrix = np.zeros((2,2)) \n",
    "    for i in range(len(y_pred)): \n",
    "        if int(y_pred[i])==1 and int(y_test[i])==1: \n",
    "            matrix[0,0]+=1 #True Positives\n",
    "        elif int(y_pred[i])==1 and int(y_test[i])==0:\n",
    "            matrix[0,1]+=1 #False Positives\n",
    "        elif int(y_pred[i])==0 and int(y_test[i])==1:\n",
    "            matrix[1,0]+=1 #False Negatives\n",
    "        elif int(y_pred[i])==0 and int(y_test[i])==0:\n",
    "            matrix[1,1]+=1 #True Negatives\n",
    "    accuracy = (matrix[0,0]+matrix[1,1])/(matrix[0,0]+matrix[1,1]+matrix[0,1]+matrix[1,0])\n",
    "    precision = matrix[0,0]/(matrix[0,0]+matrix[0,1])\n",
    "    recall = matrix[0,0]/(matrix[0,0]+matrix[1,0])\n",
    "    f1 = 2 * (precision * recall) / (precision + recall)\n",
    "    return accuracy, precision, recall, f1"
   ]
  },
  {
   "cell_type": "code",
   "execution_count": 41,
   "id": "f3c07dfe",
   "metadata": {},
   "outputs": [
    {
     "name": "stdout",
     "output_type": "stream",
     "text": [
      "Accuracy: 0.6326432354357246\n",
      "Precision: 0.6784287616511319\n",
      "Recall: 0.7844495765973826\n",
      "F1 score: 0.7275972866833275\n"
     ]
    }
   ],
   "source": [
    "accuracy, precision, recall, f1 = confusion_matrix(y_pred, y_test)\n",
    "print(\"Accuracy:\", accuracy)\n",
    "print(\"Precision:\", precision)\n",
    "print(\"Recall:\", recall)\n",
    "print(\"F1 score:\", f1)"
   ]
  },
  {
   "cell_type": "code",
   "execution_count": 42,
   "id": "d048a39f",
   "metadata": {
    "scrolled": true
   },
   "outputs": [
    {
     "data": {
      "image/png": "[encoded data removed]",
      "text/plain": [
       "<Figure size 640x480 with 1 Axes>"
      ]
     },
     "metadata": {},
     "output_type": "display_data"
    }
   ],
   "source": [
    "# Calculate the false positive rate (fpr), true positive rate (tpr), and thresholds\n",
    "sorted_indices = np.argsort(y_pred)[::-1]\n",
    "sorted_y_true = y_test[sorted_indices]\n",
    "cumulative_tp = np.cumsum(sorted_y_true)\n",
    "cumulative_fp = np.cumsum(1 - sorted_y_true)\n",
    "tpr = cumulative_tp / cumulative_tp[-1]\n",
    "fpr = cumulative_fp / cumulative_fp[-1]\n",
    "thresholds = y_pred[sorted_indices]\n",
    "\n",
    "# Convert arrays to integer type\n",
    "sorted_indices = sorted_indices.astype(int)\n",
    "\n",
    "# Calculate the AUC-ROC score using the trapezoidal rule\n",
    "auc_roc = np.trapz(tpr, fpr)\n",
    "\n",
    "# Plot the ROC curve\n",
    "plt.plot(fpr, tpr, label='ROC curve (AUC = {:.2f})'.format(auc_roc))\n",
    "plt.plot([0, 1], [0, 1], linestyle='--', color='gray', label='Random guessing')\n",
    "plt.xlim([0, 1])\n",
    "plt.ylim([0, 1])\n",
    "plt.xlabel('False positive rate')\n",
    "plt.ylabel('True positive rate')\n",
    "plt.title('Receiver operating characteristic (ROC) curve')\n",
    "plt.legend()\n",
    "plt.show()"
   ]
  },
  {
   "cell_type": "code",
   "execution_count": 43,
   "id": "ee2d507f",
   "metadata": {},
   "outputs": [],
   "source": [
    "# Check if X_test is a NumPy array or a Pandas DataFrame/Series\n",
    "if isinstance(X_test, np.ndarray):\n",
    "    # Convert the NumPy array to a Pandas DataFrame\n",
    "    X_test = pd.DataFrame(X_test)\n",
    "    \n",
    "# Create the output dataframe with valid column names\n",
    "output = pd.DataFrame({'fluctuation': y_pred })\n",
    "output.to_csv('final submission.csv', index=False)\n"
   ]
  },
  {
   "cell_type": "code",
   "execution_count": 45,
   "id": "ab90fcab",
   "metadata": {},
   "outputs": [
    {
     "name": "stdout",
     "output_type": "stream",
     "text": [
      "Number of zeros in y_test: 778 (37.46%)\n",
      "Number of ones in y_test: 778 (37.46%)\n",
      "Number of zeros in y_pred: 575 (27.68%)\n",
      "Number of ones in y_pred: 1502 (72.32%)\n"
     ]
    }
   ],
   "source": [
    "num_zeros_ytest = len(y_test) - np.count_nonzero(y_test)\n",
    "num_ones_ytest = np.count_nonzero(y_test)\n",
    "\n",
    "print(f\"Number of zeros in y_test: {num_zeros_ytest} ({num_zeros_ytest/len(y_test)*100:.2f}%)\")\n",
    "print(f\"Number of ones in y_test: {num_zeros_ytest} ({num_zeros_ytest/len(y_test)*100:.2f}%)\")\n",
    "\n",
    "num_zeros_ypred = len(y_pred) - np.count_nonzero(y_pred)\n",
    "num_ones_ypred = np.count_nonzero(y_pred)\n",
    "\n",
    "print(f\"Number of zeros in y_pred: {num_zeros_ypred} ({num_zeros_ypred/len(y_pred)*100:.2f}%)\")\n",
    "print(f\"Number of ones in y_pred: {num_ones_ypred} ({num_ones_ypred/len(y_pred)*100:.2f}%)\")\n"
   ]
  },
  {
   "cell_type": "code",
   "execution_count": 51,
   "id": "ef7f29ed",
   "metadata": {},
   "outputs": [
    {
     "data": {
      "image/png": "[encoded data removed]",
      "text/plain": [
       "<Figure size 640x480 with 1 Axes>"
      ]
     },
     "metadata": {},
     "output_type": "display_data"
    }
   ],
   "source": [
    "fig, ax = plt.subplots()\n",
    "num_zeros_ypred, num_ones_ypred = np.bincount(y_pred.astype(int))\n",
    "num_zeros_ytest, num_ones_ytest = np.bincount(y_test.astype(int))\n",
    "ax.bar([0, 1, 2, 3], [num_zeros_ypred, num_ones_ypred, num_zeros_ytest, num_ones_ytest])\n",
    "ax.set_xticks([0, 1, 2, 3])\n",
    "ax.set_xticklabels([\"0 (y_pred)\", \"0 (y_test)\", \"1 (y_pred)\", \"1 (y_test)\"])\n",
    "ax.set_xlabel(\"Class\")\n",
    "ax.set_ylabel(\"Count\")\n",
    "ax.set_title(\"Distribution of 0s and 1s in y_pred and y_test\")\n",
    "plt.show()\n"
   ]
  },
  {
   "cell_type": "code",
   "execution_count": null,
   "id": "473ac634",
   "metadata": {},
   "outputs": [],
   "source": []
  }
 ],
 "metadata": {
  "kernelspec": {
   "display_name": "Python 3 (ipykernel)",
   "language": "python",
   "name": "python3"
  },
  "language_info": {
   "codemirror_mode": {
    "name": "ipython",
    "version": 3
   },
   "file_extension": ".py",
   "mimetype": "text/x-python",
   "name": "python",
   "nbconvert_exporter": "python",
   "pygments_lexer": "ipython3",
   "version": "3.9.7"
  }
 },
 "nbformat": 4,
 "nbformat_minor": 5
}
